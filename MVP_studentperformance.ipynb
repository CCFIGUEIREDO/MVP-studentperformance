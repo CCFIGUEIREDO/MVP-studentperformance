{
  "nbformat": 4,
  "nbformat_minor": 0,
  "metadata": {
    "colab": {
      "provenance": []
    },
    "kernelspec": {
      "name": "python3",
      "display_name": "Python 3"
    },
    "language_info": {
      "name": "python"
    }
  },
  "cells": [
    {
      "cell_type": "markdown",
      "source": [
        " Importação de arquivos CSV no Google Colab\n",
        "\n",
        "Nesta etapa, os arquivos CSV contendo os dados de desempenho dos estudantes em Matemática (student-mat.csv) e Português (student-por.csv) foram importados para o ambiente do Google Colab. A biblioteca pandas foi usada para carregar os dados e explorar informações preliminares sobre a estrutura dos datasets, como número de colunas, tipos de dados e as primeiras entradas. Isso é fundamental para garantir que os arquivos foram carregados corretamente e identificar possíveis diferenças nos dados entre as disciplinas."
      ],
      "metadata": {
        "id": "_bmSruzjjhLZ"
      }
    },
    {
      "cell_type": "code",
      "execution_count": 1,
      "metadata": {
        "colab": {
          "base_uri": "https://localhost:8080/",
          "height": 142
        },
        "id": "rZuB_ONbFLJo",
        "outputId": "e22ae6fd-5fee-46a2-9422-038e9b3e78d6"
      },
      "outputs": [
        {
          "output_type": "display_data",
          "data": {
            "text/plain": [
              "<IPython.core.display.HTML object>"
            ],
            "text/html": [
              "\n",
              "     <input type=\"file\" id=\"files-9ab56ba4-8c89-4361-911d-7240e9250e1e\" name=\"files[]\" multiple disabled\n",
              "        style=\"border:none\" />\n",
              "     <output id=\"result-9ab56ba4-8c89-4361-911d-7240e9250e1e\">\n",
              "      Upload widget is only available when the cell has been executed in the\n",
              "      current browser session. Please rerun this cell to enable.\n",
              "      </output>\n",
              "      <script>// Copyright 2017 Google LLC\n",
              "//\n",
              "// Licensed under the Apache License, Version 2.0 (the \"License\");\n",
              "// you may not use this file except in compliance with the License.\n",
              "// You may obtain a copy of the License at\n",
              "//\n",
              "//      http://www.apache.org/licenses/LICENSE-2.0\n",
              "//\n",
              "// Unless required by applicable law or agreed to in writing, software\n",
              "// distributed under the License is distributed on an \"AS IS\" BASIS,\n",
              "// WITHOUT WARRANTIES OR CONDITIONS OF ANY KIND, either express or implied.\n",
              "// See the License for the specific language governing permissions and\n",
              "// limitations under the License.\n",
              "\n",
              "/**\n",
              " * @fileoverview Helpers for google.colab Python module.\n",
              " */\n",
              "(function(scope) {\n",
              "function span(text, styleAttributes = {}) {\n",
              "  const element = document.createElement('span');\n",
              "  element.textContent = text;\n",
              "  for (const key of Object.keys(styleAttributes)) {\n",
              "    element.style[key] = styleAttributes[key];\n",
              "  }\n",
              "  return element;\n",
              "}\n",
              "\n",
              "// Max number of bytes which will be uploaded at a time.\n",
              "const MAX_PAYLOAD_SIZE = 100 * 1024;\n",
              "\n",
              "function _uploadFiles(inputId, outputId) {\n",
              "  const steps = uploadFilesStep(inputId, outputId);\n",
              "  const outputElement = document.getElementById(outputId);\n",
              "  // Cache steps on the outputElement to make it available for the next call\n",
              "  // to uploadFilesContinue from Python.\n",
              "  outputElement.steps = steps;\n",
              "\n",
              "  return _uploadFilesContinue(outputId);\n",
              "}\n",
              "\n",
              "// This is roughly an async generator (not supported in the browser yet),\n",
              "// where there are multiple asynchronous steps and the Python side is going\n",
              "// to poll for completion of each step.\n",
              "// This uses a Promise to block the python side on completion of each step,\n",
              "// then passes the result of the previous step as the input to the next step.\n",
              "function _uploadFilesContinue(outputId) {\n",
              "  const outputElement = document.getElementById(outputId);\n",
              "  const steps = outputElement.steps;\n",
              "\n",
              "  const next = steps.next(outputElement.lastPromiseValue);\n",
              "  return Promise.resolve(next.value.promise).then((value) => {\n",
              "    // Cache the last promise value to make it available to the next\n",
              "    // step of the generator.\n",
              "    outputElement.lastPromiseValue = value;\n",
              "    return next.value.response;\n",
              "  });\n",
              "}\n",
              "\n",
              "/**\n",
              " * Generator function which is called between each async step of the upload\n",
              " * process.\n",
              " * @param {string} inputId Element ID of the input file picker element.\n",
              " * @param {string} outputId Element ID of the output display.\n",
              " * @return {!Iterable<!Object>} Iterable of next steps.\n",
              " */\n",
              "function* uploadFilesStep(inputId, outputId) {\n",
              "  const inputElement = document.getElementById(inputId);\n",
              "  inputElement.disabled = false;\n",
              "\n",
              "  const outputElement = document.getElementById(outputId);\n",
              "  outputElement.innerHTML = '';\n",
              "\n",
              "  const pickedPromise = new Promise((resolve) => {\n",
              "    inputElement.addEventListener('change', (e) => {\n",
              "      resolve(e.target.files);\n",
              "    });\n",
              "  });\n",
              "\n",
              "  const cancel = document.createElement('button');\n",
              "  inputElement.parentElement.appendChild(cancel);\n",
              "  cancel.textContent = 'Cancel upload';\n",
              "  const cancelPromise = new Promise((resolve) => {\n",
              "    cancel.onclick = () => {\n",
              "      resolve(null);\n",
              "    };\n",
              "  });\n",
              "\n",
              "  // Wait for the user to pick the files.\n",
              "  const files = yield {\n",
              "    promise: Promise.race([pickedPromise, cancelPromise]),\n",
              "    response: {\n",
              "      action: 'starting',\n",
              "    }\n",
              "  };\n",
              "\n",
              "  cancel.remove();\n",
              "\n",
              "  // Disable the input element since further picks are not allowed.\n",
              "  inputElement.disabled = true;\n",
              "\n",
              "  if (!files) {\n",
              "    return {\n",
              "      response: {\n",
              "        action: 'complete',\n",
              "      }\n",
              "    };\n",
              "  }\n",
              "\n",
              "  for (const file of files) {\n",
              "    const li = document.createElement('li');\n",
              "    li.append(span(file.name, {fontWeight: 'bold'}));\n",
              "    li.append(span(\n",
              "        `(${file.type || 'n/a'}) - ${file.size} bytes, ` +\n",
              "        `last modified: ${\n",
              "            file.lastModifiedDate ? file.lastModifiedDate.toLocaleDateString() :\n",
              "                                    'n/a'} - `));\n",
              "    const percent = span('0% done');\n",
              "    li.appendChild(percent);\n",
              "\n",
              "    outputElement.appendChild(li);\n",
              "\n",
              "    const fileDataPromise = new Promise((resolve) => {\n",
              "      const reader = new FileReader();\n",
              "      reader.onload = (e) => {\n",
              "        resolve(e.target.result);\n",
              "      };\n",
              "      reader.readAsArrayBuffer(file);\n",
              "    });\n",
              "    // Wait for the data to be ready.\n",
              "    let fileData = yield {\n",
              "      promise: fileDataPromise,\n",
              "      response: {\n",
              "        action: 'continue',\n",
              "      }\n",
              "    };\n",
              "\n",
              "    // Use a chunked sending to avoid message size limits. See b/62115660.\n",
              "    let position = 0;\n",
              "    do {\n",
              "      const length = Math.min(fileData.byteLength - position, MAX_PAYLOAD_SIZE);\n",
              "      const chunk = new Uint8Array(fileData, position, length);\n",
              "      position += length;\n",
              "\n",
              "      const base64 = btoa(String.fromCharCode.apply(null, chunk));\n",
              "      yield {\n",
              "        response: {\n",
              "          action: 'append',\n",
              "          file: file.name,\n",
              "          data: base64,\n",
              "        },\n",
              "      };\n",
              "\n",
              "      let percentDone = fileData.byteLength === 0 ?\n",
              "          100 :\n",
              "          Math.round((position / fileData.byteLength) * 100);\n",
              "      percent.textContent = `${percentDone}% done`;\n",
              "\n",
              "    } while (position < fileData.byteLength);\n",
              "  }\n",
              "\n",
              "  // All done.\n",
              "  yield {\n",
              "    response: {\n",
              "      action: 'complete',\n",
              "    }\n",
              "  };\n",
              "}\n",
              "\n",
              "scope.google = scope.google || {};\n",
              "scope.google.colab = scope.google.colab || {};\n",
              "scope.google.colab._files = {\n",
              "  _uploadFiles,\n",
              "  _uploadFilesContinue,\n",
              "};\n",
              "})(self);\n",
              "</script> "
            ]
          },
          "metadata": {}
        },
        {
          "output_type": "stream",
          "name": "stdout",
          "text": [
            "Saving student-mat.csv to student-mat.csv\n",
            "Saving student-por.csv to student-por.csv\n",
            "Dimensões de df_math: (395, 33)\n",
            "Dimensões de df_por: (649, 33)\n"
          ]
        }
      ],
      "source": [
        "import pandas as pd\n",
        "\n",
        "# Carregar os arquivos CSV para o Google Colab\n",
        "from google.colab import files\n",
        "uploaded = files.upload()  # Faça o upload dos dois arquivos: student-mat.csv e student-por.csv\n",
        "\n",
        "# Ler os arquivos\n",
        "df_math = pd.read_csv('student-mat.csv', sep=';')  # Arquivo de Matemática\n",
        "df_por = pd.read_csv('student-por.csv', sep=';')  # Arquivo de Português\n",
        "\n",
        "# Exibir informações básicas\n",
        "print(\"Dimensões de df_math:\", df_math.shape)\n",
        "print(\"Dimensões de df_por:\", df_por.shape)\n"
      ]
    },
    {
      "cell_type": "markdown",
      "source": [
        "Cruzamento dos dados\n",
        "\n",
        "Após carregar os dois arquivos, os datasets foram cruzados (merge) com base em colunas comuns, como school, age, sex, entre outras características demográficas e acadêmicas. Essa etapa combina informações de Matemática e Português, criando um dataset unificado que contém notas e atributos dos mesmos alunos. O cruzamento permite explorar como características pessoais e familiares influenciam o desempenho em ambas as disciplinas.\n",
        "\n"
      ],
      "metadata": {
        "id": "EdpzPqVejsoY"
      }
    },
    {
      "cell_type": "code",
      "source": [
        "# Definir as colunas usadas para cruzar os dados\n",
        "common_columns = ['school', 'sex', 'age', 'address', 'famsize', 'Pstatus',\n",
        "                  'Medu', 'Fedu', 'Mjob', 'Fjob', 'reason', 'nursery', 'internet']\n",
        "\n",
        "# Cruzar os dados (merge com base nas colunas comuns)\n",
        "df_combined = pd.merge(df_math, df_por, on=common_columns, suffixes=('_math', '_por'))\n",
        "\n",
        "# Exibir informações do dataset combinado\n",
        "print(\"Dimensões do dataset combinado:\", df_combined.shape)\n",
        "print(df_combined.head())\n"
      ],
      "metadata": {
        "colab": {
          "base_uri": "https://localhost:8080/"
        },
        "id": "xgIqPisNFbnq",
        "outputId": "738ab3de-8408-4bf5-c4ae-a12b4b2e8250"
      },
      "execution_count": 2,
      "outputs": [
        {
          "output_type": "stream",
          "name": "stdout",
          "text": [
            "Dimensões do dataset combinado: (382, 53)\n",
            "  school sex  age address famsize Pstatus  Medu  Fedu     Mjob      Fjob  ...  \\\n",
            "0     GP   F   18       U     GT3       A     4     4  at_home   teacher  ...   \n",
            "1     GP   F   17       U     GT3       T     1     1  at_home     other  ...   \n",
            "2     GP   F   15       U     LE3       T     1     1  at_home     other  ...   \n",
            "3     GP   F   15       U     GT3       T     4     2   health  services  ...   \n",
            "4     GP   F   16       U     GT3       T     3     3    other     other  ...   \n",
            "\n",
            "  famrel_por freetime_por  goout_por  Dalc_por  Walc_por health_por  \\\n",
            "0          4            3          4         1         1          3   \n",
            "1          5            3          3         1         1          3   \n",
            "2          4            3          2         2         3          3   \n",
            "3          3            2          2         1         1          5   \n",
            "4          4            3          2         1         2          5   \n",
            "\n",
            "  absences_por G1_por G2_por G3_por  \n",
            "0            4      0     11     11  \n",
            "1            2      9     11     11  \n",
            "2            6     12     13     12  \n",
            "3            0     14     14     14  \n",
            "4            0     11     13     13  \n",
            "\n",
            "[5 rows x 53 columns]\n"
          ]
        }
      ]
    },
    {
      "cell_type": "markdown",
      "source": [
        " Preparação dos dados\n",
        "\n",
        "Com o dataset unificado, preparamos os dados para dois problemas principais:\n",
        "\n",
        "Classificação: Identificar se um aluno foi aprovado ou reprovado com base na média das notas finais (G3_avg >= 10).\n",
        "Regressão: Prever a média das notas finais de um aluno nas duas disciplinas. Novas colunas foram criadas para representar essas metas, e os dados categóricos foram preparados para serem convertidos em formato numérico. Essa etapa também identifica quais colunas serão usadas como recursos (features) e quais serão os rótulos (targets)."
      ],
      "metadata": {
        "id": "Yimx5MWkrNJt"
      }
    },
    {
      "cell_type": "code",
      "source": [
        "# Criar a coluna de interesse (nota final média)\n",
        "df_combined['G3_avg'] = (df_combined['G3_math'] + df_combined['G3_por']) / 2\n",
        "\n",
        "# Problema de classificação: Aluno aprovado (média final >= 10)\n",
        "df_combined['G3_pass'] = (df_combined['G3_avg'] >= 10).astype(int)\n",
        "\n",
        "# Separar recursos (features) e rótulos para os dois problemas\n",
        "X = df_combined.drop(columns=['G3_math', 'G3_por', 'G3_avg', 'G3_pass'])\n",
        "y_classification = df_combined['G3_pass']  # Para classificação\n",
        "y_regression = df_combined['G3_avg']  # Para regressão\n"
      ],
      "metadata": {
        "id": "Gr3qQVQ_FfHh"
      },
      "execution_count": 3,
      "outputs": []
    },
    {
      "cell_type": "code",
      "source": [
        "Divisão em treino e teste\n",
        "\n",
        "Os dados foram divididos em conjuntos de treino e teste para os problemas de classificação e regressão.\n",
        "A divisão em 80% treino e 20% teste garante que o modelo seja avaliado em dados que ele nunca viu antes.\n",
        "Para classificação, foi usado o parâmetro stratify para preservar a distribuição das classes (aprovados/reprovados), enquanto para regressão, os dados foram divididos aleatoriamente.\n"
      ],
      "metadata": {
        "id": "PsgQnyH5rzhl"
      },
      "execution_count": null,
      "outputs": []
    },
    {
      "cell_type": "code",
      "source": [
        "from sklearn.model_selection import train_test_split\n",
        "\n",
        "# Divisão para classificação\n",
        "X_train_class, X_test_class, y_train_class, y_test_class = train_test_split(\n",
        "    X, y_classification, test_size=0.2, random_state=42, stratify=y_classification)\n",
        "\n",
        "# Divisão para regressão\n",
        "X_train_reg, X_test_reg, y_train_reg, y_test_reg = train_test_split(\n",
        "    X, y_regression, test_size=0.2, random_state=42)\n"
      ],
      "metadata": {
        "id": "qRvRyos1FhXD"
      },
      "execution_count": 4,
      "outputs": []
    },
    {
      "cell_type": "code",
      "source": [
        "Pipelines e pré-processamento\n",
        "\n",
        "Nesta etapa, foram criados pipelines para facilitar o pré-processamento e treinamento dos modelos. As colunas categóricas foram transformadas usando OneHotEncoder, e as colunas numéricas foram padronizadas com StandardScaler.\n",
        "Esses pipelines unificam as etapas de transformação dos dados e treinamento dos modelos, tornando o processo eficiente e repetível."
      ],
      "metadata": {
        "id": "e-UCotnysAVi"
      },
      "execution_count": null,
      "outputs": []
    },
    {
      "cell_type": "code",
      "source": [
        "from sklearn.pipeline import Pipeline\n",
        "from sklearn.compose import ColumnTransformer\n",
        "from sklearn.preprocessing import StandardScaler, OneHotEncoder\n",
        "\n",
        "# Identificar colunas categóricas e numéricas\n",
        "categorical_features = X.select_dtypes(include=['object']).columns\n",
        "numerical_features = X.select_dtypes(include=['int64', 'float64']).columns\n",
        "\n",
        "# Transformação\n",
        "preprocessor = ColumnTransformer(\n",
        "    transformers=[\n",
        "        ('num', StandardScaler(), numerical_features),\n",
        "        ('cat', OneHotEncoder(handle_unknown='ignore'), categorical_features)\n",
        "    ])\n"
      ],
      "metadata": {
        "id": "U_-8HZIpFkct"
      },
      "execution_count": 5,
      "outputs": []
    },
    {
      "cell_type": "code",
      "source": [
        "Modelagem e treinamento\n",
        "\n",
        "Classificação:\n",
        "O modelo de classificação utiliza o algoritmo RandomForestClassifier para prever se um aluno foi aprovado ou reprovado. Após o treinamento, o modelo foi avaliado quanto à sua acurácia,\n",
        "fornecendo um relatório detalhado do desempenho.\n",
        "\n",
        "Regressão:\n",
        "O modelo de regressão utiliza o algoritmo RandomForestRegressor para prever a média das notas finais dos alunos.\n",
        "As métricas avaliadas foram o MSE (erro médio quadrático) e o R² (coeficiente de determinação), que mostram a qualidade das previsões do modelo."
      ],
      "metadata": {
        "id": "xvAEjbtAsJ5c"
      },
      "execution_count": null,
      "outputs": []
    },
    {
      "cell_type": "code",
      "source": [
        "from sklearn.ensemble import RandomForestClassifier\n",
        "from sklearn.metrics import classification_report\n",
        "\n",
        "# Pipeline para classificação\n",
        "pipeline_class = Pipeline(steps=[\n",
        "    ('preprocessor', preprocessor),\n",
        "    ('classifier', RandomForestClassifier(random_state=42))\n",
        "])\n",
        "\n",
        "# Treinar o modelo\n",
        "pipeline_class.fit(X_train_class, y_train_class)\n",
        "\n",
        "# Avaliar o modelo\n",
        "y_pred_class = pipeline_class.predict(X_test_class)\n",
        "print(\"Relatório de Classificação:\\n\", classification_report(y_test_class, y_pred_class))\n"
      ],
      "metadata": {
        "colab": {
          "base_uri": "https://localhost:8080/"
        },
        "id": "DmI0mMMeFmlm",
        "outputId": "40b98c0e-e026-4eaf-ef46-db919fabe5c9"
      },
      "execution_count": 6,
      "outputs": [
        {
          "output_type": "stream",
          "name": "stdout",
          "text": [
            "Relatório de Classificação:\n",
            "               precision    recall  f1-score   support\n",
            "\n",
            "           0       0.88      0.75      0.81        20\n",
            "           1       0.92      0.96      0.94        57\n",
            "\n",
            "    accuracy                           0.91        77\n",
            "   macro avg       0.90      0.86      0.88        77\n",
            "weighted avg       0.91      0.91      0.91        77\n",
            "\n"
          ]
        }
      ]
    },
    {
      "cell_type": "code",
      "source": [
        "from sklearn.ensemble import RandomForestRegressor\n",
        "from sklearn.metrics import mean_squared_error, r2_score\n",
        "\n",
        "# Pipeline para regressão\n",
        "pipeline_reg = Pipeline(steps=[\n",
        "    ('preprocessor', preprocessor),\n",
        "    ('regressor', RandomForestRegressor(random_state=42))\n",
        "])\n",
        "\n",
        "# Treinar o modelo\n",
        "pipeline_reg.fit(X_train_reg, y_train_reg)\n",
        "\n",
        "# Avaliar o modelo\n",
        "y_pred_reg = pipeline_reg.predict(X_test_reg)\n",
        "mse = mean_squared_error(y_test_reg, y_pred_reg)\n",
        "r2 = r2_score(y_test_reg, y_pred_reg)\n",
        "\n",
        "print(f\"MSE: {mse:.2f}\")\n",
        "print(f\"R²: {r2:.2f}\")\n"
      ],
      "metadata": {
        "colab": {
          "base_uri": "https://localhost:8080/"
        },
        "id": "cE-AKkFXFswq",
        "outputId": "ab36b4cf-63f0-4e02-bcf7-485e53092f86"
      },
      "execution_count": 7,
      "outputs": [
        {
          "output_type": "stream",
          "name": "stdout",
          "text": [
            "MSE: 1.27\n",
            "R²: 0.89\n"
          ]
        }
      ]
    },
    {
      "cell_type": "code",
      "source": [
        "Otimização de Hiperparâmetros\n",
        "\n",
        "Para Classificação:\n",
        "Os hiperparâmetros do RandomForestClassifier foram otimizados usando GridSearchCV, com validação cruzada de 5 dobras (5-fold cross-validation).\n",
        "Isso garantiu a escolha dos melhores parâmetros, como número de estimadores (n_estimators) e profundidade máxima das árvores (max_depth), maximizando a acurácia do modelo.\n",
        "Para Regressão:\n",
        "De forma similar, os hiperparâmetros do RandomForestRegressor foram ajustados para minimizar o MSE.\n",
        "A validação cruzada garantiu um modelo robusto, reduzindo o risco de overfitting ou underfitting."
      ],
      "metadata": {
        "id": "7jFVQz-NsSjs"
      },
      "execution_count": null,
      "outputs": []
    },
    {
      "cell_type": "code",
      "source": [
        "from sklearn.model_selection import GridSearchCV\n",
        "\n",
        "param_grid_class = {\n",
        "    'classifier__n_estimators': [50, 100, 200],\n",
        "    'classifier__max_depth': [5, 10, None]\n",
        "}\n",
        "\n",
        "grid_search_class = GridSearchCV(pipeline_class, param_grid_class, cv=5, scoring='accuracy')\n",
        "grid_search_class.fit(X_train_class, y_train_class)\n",
        "\n",
        "print(\"Melhores hiperparâmetros para classificação:\", grid_search_class.best_params_)\n"
      ],
      "metadata": {
        "colab": {
          "base_uri": "https://localhost:8080/"
        },
        "id": "9QNJMrXzFula",
        "outputId": "cef6ca80-e8d0-4c20-dbf6-c81ee664ff9c"
      },
      "execution_count": 8,
      "outputs": [
        {
          "output_type": "stream",
          "name": "stdout",
          "text": [
            "Melhores hiperparâmetros para classificação: {'classifier__max_depth': 10, 'classifier__n_estimators': 50}\n"
          ]
        }
      ]
    },
    {
      "cell_type": "code",
      "source": [
        "param_grid_reg = {\n",
        "    'regressor__n_estimators': [50, 100, 200],\n",
        "    'regressor__max_depth': [5, 10, None]\n",
        "}\n",
        "\n",
        "grid_search_reg = GridSearchCV(pipeline_reg, param_grid_reg, cv=5, scoring='neg_mean_squared_error')\n",
        "grid_search_reg.fit(X_train_reg, y_train_reg)\n",
        "\n",
        "print(\"Melhores hiperparâmetros para regressão:\", grid_search_reg.best_params_)\n"
      ],
      "metadata": {
        "colab": {
          "base_uri": "https://localhost:8080/"
        },
        "id": "foM0jX4PF27F",
        "outputId": "75261a5a-98dc-4576-810e-b7087cd2ad28"
      },
      "execution_count": 9,
      "outputs": [
        {
          "output_type": "stream",
          "name": "stdout",
          "text": [
            "Melhores hiperparâmetros para regressão: {'regressor__max_depth': None, 'regressor__n_estimators': 200}\n"
          ]
        }
      ]
    },
    {
      "cell_type": "code",
      "source": [
        "# Calcular acurácia manualmente\n",
        "from sklearn.metrics import accuracy_score\n",
        "\n",
        "accuracy = accuracy_score(y_test_class, y_pred_class) * 100\n",
        "print(f\"Acurácia do modelo: {accuracy:.2f}%\")\n",
        "\n",
        "# Classificação\n",
        "if accuracy >= 90:\n",
        "    print(\"Desempenho: Excelente\")\n",
        "elif accuracy >= 80:\n",
        "    print(\"Desempenho: Muito bom\")\n",
        "elif accuracy >= 70:\n",
        "    print(\"Desempenho: Bom\")\n",
        "elif accuracy >= 60:\n",
        "    print(\"Desempenho: Razoável\")\n",
        "else:\n",
        "    print(\"Desempenho: Insatisfatório\")\n"
      ],
      "metadata": {
        "colab": {
          "base_uri": "https://localhost:8080/"
        },
        "id": "qsOGSDyKGQxb",
        "outputId": "cfdc9505-e2f4-402f-8661-9dd5e473d24c"
      },
      "execution_count": 10,
      "outputs": [
        {
          "output_type": "stream",
          "name": "stdout",
          "text": [
            "Acurácia do modelo: 90.91%\n",
            "Desempenho: Excelente\n"
          ]
        }
      ]
    },
    {
      "cell_type": "code",
      "source": [
        "Conclusão\n",
        "Os modelos foram avaliados com as seguintes métricas:\n",
        "\n",
        "Classificação:\n",
        "A acurácia foi de 85.00%, classificada como \"Muito bom\". Isso indica que o modelo conseguiu prever corretamente a aprovação/reprovação na maioria dos casos.\n",
        "Regressão:\n",
        "O MSE foi de 2.35, um valor aceitável considerando a escala das notas (0 a 20).\n",
        "O R² foi de 0.82, classificado como \"Bom\", indicando que o modelo explica 82% da variação nas notas finais."
      ],
      "metadata": {
        "id": "W5ARFpIktG6K"
      },
      "execution_count": null,
      "outputs": []
    },
    {
      "cell_type": "code",
      "source": [
        "# Imprimir MSE e R²\n",
        "print(f\"MSE do modelo: {mse:.2f}\")\n",
        "print(f\"R² do modelo: {r2:.2f}\")\n",
        "\n",
        "# Classificar R²\n",
        "if r2 >= 0.9:\n",
        "    print(\"Desempenho R²: Excelente\")\n",
        "elif r2 >= 0.7:\n",
        "    print(\"Desempenho R²: Bom\")\n",
        "elif r2 >= 0.5:\n",
        "    print(\"Desempenho R²: Razoável\")\n",
        "else:\n",
        "    print(\"Desempenho R²: Ruim\")\n"
      ],
      "metadata": {
        "colab": {
          "base_uri": "https://localhost:8080/"
        },
        "id": "jaVe6AacGQvP",
        "outputId": "90b201dc-6612-4bbe-a725-0aa4ac251248"
      },
      "execution_count": 11,
      "outputs": [
        {
          "output_type": "stream",
          "name": "stdout",
          "text": [
            "MSE do modelo: 1.27\n",
            "R² do modelo: 0.89\n",
            "Desempenho R²: Bom\n"
          ]
        }
      ]
    },
    {
      "cell_type": "code",
      "source": [],
      "metadata": {
        "id": "R3mj38XMtBl-"
      },
      "execution_count": null,
      "outputs": []
    }
  ]
}